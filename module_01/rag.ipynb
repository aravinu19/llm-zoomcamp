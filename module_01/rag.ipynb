{
 "cells": [
  {
   "cell_type": "code",
   "execution_count": 17,
   "id": "992ec2c3-b869-40d9-a918-75abd5ae8aec",
   "metadata": {},
   "outputs": [],
   "source": [
    "import minsearch"
   ]
  },
  {
   "cell_type": "code",
   "execution_count": 18,
   "id": "80a1701a-94f0-4cac-b316-b038071cc144",
   "metadata": {},
   "outputs": [],
   "source": [
    "import json"
   ]
  },
  {
   "cell_type": "code",
   "execution_count": 19,
   "id": "13cf59af-bd3a-4740-8cc3-bda54c1537c3",
   "metadata": {},
   "outputs": [],
   "source": [
    "with open('document.json', 'rt') as file_in:\n",
    "    raw_docs = json.load(file_in)"
   ]
  },
  {
   "cell_type": "code",
   "execution_count": 20,
   "id": "042511be-2448-4df7-8379-0dfc51eacd9d",
   "metadata": {},
   "outputs": [],
   "source": [
    "documents = []\n",
    "\n",
    "for course_dict in raw_docs:\n",
    "    for doc in course_dict['documents']:\n",
    "        doc['course'] = course_dict['course']\n",
    "        documents.append(doc)"
   ]
  },
  {
   "cell_type": "code",
   "execution_count": 21,
   "id": "7deae97c-bb05-466f-81a2-c428ce33688c",
   "metadata": {},
   "outputs": [],
   "source": [
    "index = minsearch.Index(\n",
    "    text_fields = ['question', 'text', 'section'],\n",
    "    keyword_fields = ['course']\n",
    ")"
   ]
  },
  {
   "cell_type": "code",
   "execution_count": 23,
   "id": "70a6a232-a130-430a-a13f-b02986a03de0",
   "metadata": {},
   "outputs": [
    {
     "data": {
      "text/plain": [
       "<minsearch.minsearch.Index at 0x75275e67f560>"
      ]
     },
     "execution_count": 23,
     "metadata": {},
     "output_type": "execute_result"
    }
   ],
   "source": [
    "index.fit(documents)"
   ]
  },
  {
   "cell_type": "code",
   "execution_count": 24,
   "id": "3d7be22a-8d21-42d8-825e-7590c1e0ff34",
   "metadata": {},
   "outputs": [],
   "source": [
    "def search_documents(query):\n",
    "    boost = {'question': 2.0, 'section': 0.5}\n",
    "    filter = {'course': 'data-engineering-zoomcamp'}\n",
    "    \n",
    "    return index.search(\n",
    "        query = query,\n",
    "        boost_dict = boost,\n",
    "        filter_dict = filter,\n",
    "        num_results = 5\n",
    "    )"
   ]
  },
  {
   "cell_type": "code",
   "execution_count": 25,
   "id": "0c7776cd-87e6-42f0-9062-fd30f3e9e295",
   "metadata": {},
   "outputs": [],
   "source": [
    "from openai import OpenAI"
   ]
  },
  {
   "cell_type": "code",
   "execution_count": 26,
   "id": "873af5f3-4a0f-4f0c-a306-828bf665e3b3",
   "metadata": {},
   "outputs": [],
   "source": [
    "client = OpenAI(\n",
    "    base_url=\"http://localhost:11434/v1/\",\n",
    "    api_key=\"ollama\"\n",
    ")"
   ]
  },
  {
   "cell_type": "code",
   "execution_count": 33,
   "id": "e150ba75-1bb8-4ea2-aceb-97df4e25306f",
   "metadata": {},
   "outputs": [],
   "source": [
    "def llm(prompt):\n",
    "    response = client.chat.completions.create(\n",
    "        model= 'deepseek-r1:1.5b', # 'gemma3:1b',\n",
    "        messages=[{\"role\": \"user\", \"content\": prompt}]\n",
    "    )\n",
    "    return response.choices[0].message.content"
   ]
  },
  {
   "cell_type": "code",
   "execution_count": 28,
   "id": "1a997140-1f4a-4ddb-bc75-7033b6381cf7",
   "metadata": {},
   "outputs": [],
   "source": [
    "def build_prompt(query, search_results):\n",
    "    prompt_template = \"\"\"\n",
    "    You're a course teaching assistant. Answer the QUESTION based on the CONTEXT from the FAQ database.\n",
    "    Use only the facts from the CONTEXT when answering the QUESTION.\n",
    "    If the CONTEXT does not have the Answer then output as you could not find the answer\n",
    "    \n",
    "    QUESTION: {question}\n",
    "    \n",
    "    CONTEXT: \n",
    "    {context}\n",
    "    \"\"\".strip()\n",
    "    \n",
    "    context = \"\"\n",
    "        \n",
    "    for doc in search_results:\n",
    "        context = context + f\"section: {doc['section']}\\nquestion: {doc['question']}\\nanswer: {doc['text']}\\n\\n\"\n",
    "    \n",
    "    return prompt_template.format(question=query, context=context).strip()"
   ]
  },
  {
   "cell_type": "code",
   "execution_count": 29,
   "id": "df099561-678e-487d-86e4-3cf55e493b7a",
   "metadata": {},
   "outputs": [],
   "source": [
    "def rag(query):\n",
    "    search_results = search_documents(query)\n",
    "    prompt = build_prompt(query, search_results)\n",
    "    return llm(prompt)"
   ]
  },
  {
   "cell_type": "code",
   "execution_count": 34,
   "id": "839e23d0-4dad-4fb8-ba06-8f63d047bf3f",
   "metadata": {},
   "outputs": [],
   "source": [
    "query = \"How can install kafka ?\""
   ]
  },
  {
   "cell_type": "code",
   "execution_count": 35,
   "id": "05edd1d6-b139-4b58-9b0e-ab3ac7a48064",
   "metadata": {},
   "outputs": [
    {
     "data": {
      "text/plain": [
       "'<think>\\nOkay, I need to figure out how to install kafka using Confluent Kafka. Let me look through the context provided.\\n\\nThe section about Python Kafka mentions installing dependencies with pip and conda. The answers are:\\n\\npip install confluent-kafka or conda install conda-forge::python-confluent-kafka\\nfastavro: pip install fastavro\\n\\nWait, but I think Confluent Kafka is a Conecter to Conex client library (CL). So for Python users, they\\'d just use those pip commands. For Java users? There\\'s an alternative provided which says to use the kafka-python-ng CLI because older releases have issues.\\n\\nSo if someone wants to run this in their terminal, they need to have the KNAPP pausable CLI installed as an additional dependency. The answer for that is to install it with:\\n\\nnps install k Nap\\n\\nIt also notes that after installing, you can set up the kafka jar correctly and import it into a Java application.\\n\\nIn summary, Confluent Kafka packages are available only in Python using these pip commands, but Java users need the newer K Nap CLI.\\n</think>\\n\\nTo install kafka in Confluent Cloud:\\n\\n1. Navigate to Environment.\\n2. Select your environment.\\n3. Click on \"Stream Governance API.\"\\n4. Go to \"Endpoint\" and select \"Kafka Endpoint.\"\\n5. Add your Kafka URL and credentials.\\n\\nFor Java users, using the newer K Nap CLI:\\n\\n```\\nnps install conns\\njava -cp build/libs/kinesis-caesar-1_016-snappa jar filename.java\\n```'"
      ]
     },
     "execution_count": 35,
     "metadata": {},
     "output_type": "execute_result"
    }
   ],
   "source": [
    "rag(query)"
   ]
  }
 ],
 "metadata": {
  "kernelspec": {
   "display_name": "Python 3 (ipykernel)",
   "language": "python",
   "name": "python3"
  },
  "language_info": {
   "codemirror_mode": {
    "name": "ipython",
    "version": 3
   },
   "file_extension": ".py",
   "mimetype": "text/x-python",
   "name": "python",
   "nbconvert_exporter": "python",
   "pygments_lexer": "ipython3",
   "version": "3.12.1"
  }
 },
 "nbformat": 4,
 "nbformat_minor": 5
}
