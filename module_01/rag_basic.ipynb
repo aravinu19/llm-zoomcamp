{
 "cells": [
  {
   "cell_type": "code",
   "execution_count": 1,
   "id": "992ec2c3-b869-40d9-a918-75abd5ae8aec",
   "metadata": {},
   "outputs": [],
   "source": [
    "import minsearch"
   ]
  },
  {
   "cell_type": "code",
   "execution_count": 2,
   "id": "80a1701a-94f0-4cac-b316-b038071cc144",
   "metadata": {},
   "outputs": [],
   "source": [
    "import json"
   ]
  },
  {
   "cell_type": "code",
   "execution_count": 4,
   "id": "13cf59af-bd3a-4740-8cc3-bda54c1537c3",
   "metadata": {},
   "outputs": [],
   "source": [
    "with open('document.json', 'rt') as file_in:\n",
    "    raw_docs = json.load(file_in)"
   ]
  },
  {
   "cell_type": "code",
   "execution_count": 5,
   "id": "042511be-2448-4df7-8379-0dfc51eacd9d",
   "metadata": {},
   "outputs": [],
   "source": [
    "documents = []\n",
    "\n",
    "for course_dict in raw_docs:\n",
    "    for doc in course_dict['documents']:\n",
    "        doc['course'] = course_dict['course']\n",
    "        documents.append(doc)"
   ]
  },
  {
   "cell_type": "code",
   "execution_count": 6,
   "id": "7deae97c-bb05-466f-81a2-c428ce33688c",
   "metadata": {},
   "outputs": [],
   "source": [
    "index = minsearch.Index(\n",
    "    text_fields = ['question', 'text', 'section'],\n",
    "    keyword_fields = ['course']\n",
    ")"
   ]
  },
  {
   "cell_type": "code",
   "execution_count": 7,
   "id": "839e23d0-4dad-4fb8-ba06-8f63d047bf3f",
   "metadata": {},
   "outputs": [],
   "source": [
    "query = \"How can we contribute to the course?\""
   ]
  },
  {
   "cell_type": "code",
   "execution_count": 9,
   "id": "70a6a232-a130-430a-a13f-b02986a03de0",
   "metadata": {},
   "outputs": [
    {
     "data": {
      "text/plain": [
       "<minsearch.minsearch.Index at 0x7a7b18f660c0>"
      ]
     },
     "execution_count": 9,
     "metadata": {},
     "output_type": "execute_result"
    }
   ],
   "source": [
    "index.fit(documents)"
   ]
  },
  {
   "cell_type": "code",
   "execution_count": 12,
   "id": "3d7be22a-8d21-42d8-825e-7590c1e0ff34",
   "metadata": {},
   "outputs": [],
   "source": [
    "boost = {'question': 2.0, 'section': 0.5}\n",
    "filter = {'course': 'data-engineering-zoomcamp'}\n",
    "\n",
    "results = index.search(\n",
    "    query = query,\n",
    "    boost_dict = boost,\n",
    "    filter_dict = filter,\n",
    "    num_results = 5\n",
    ")"
   ]
  },
  {
   "cell_type": "code",
   "execution_count": 13,
   "id": "0c7776cd-87e6-42f0-9062-fd30f3e9e295",
   "metadata": {},
   "outputs": [],
   "source": [
    "from openai import OpenAI"
   ]
  },
  {
   "cell_type": "code",
   "execution_count": 14,
   "id": "873af5f3-4a0f-4f0c-a306-828bf665e3b3",
   "metadata": {},
   "outputs": [],
   "source": [
    "client = OpenAI(\n",
    "    base_url=\"http://localhost:11434/v1/\",\n",
    "    api_key=\"ollama\"\n",
    ")"
   ]
  },
  {
   "cell_type": "code",
   "execution_count": 16,
   "id": "e150ba75-1bb8-4ea2-aceb-97df4e25306f",
   "metadata": {},
   "outputs": [],
   "source": [
    "response = client.chat.completions.create(\n",
    "    model='deepseek-r1:1.5b',\n",
    "    messages=[{\"role\": \"user\", \"content\": query}]\n",
    ")"
   ]
  },
  {
   "cell_type": "code",
   "execution_count": 17,
   "id": "c70a2462-0eea-415d-b198-e113321e180b",
   "metadata": {},
   "outputs": [
    {
     "data": {
      "text/plain": [
       "'<think>\\n\\n</think>\\n\\nI\\'m an AI assistant that uses algorithms to process information and create responses. I don\\'t have actual consciousness or emotions, so I don\\'t experience \"adding to a course\" directly. However, if you have specific questions or need help with something, feel free to share, and I\\'ll do my best to assist!'"
      ]
     },
     "execution_count": 17,
     "metadata": {},
     "output_type": "execute_result"
    }
   ],
   "source": [
    "response.choices[0].message.content"
   ]
  },
  {
   "cell_type": "code",
   "execution_count": 18,
   "id": "1a997140-1f4a-4ddb-bc75-7033b6381cf7",
   "metadata": {},
   "outputs": [],
   "source": [
    "prompt_template = \"\"\"\n",
    "You're a course teaching assistant. Answer the QUESTION based on the CONTEXT from the FAQ database.\n",
    "Use only the facts from the CONTEXT when answering the QUESTION.\n",
    "If the CONTEXT does not have the Answer then output as you could not find the answer\n",
    "\n",
    "QUESTION: {question}\n",
    "\n",
    "CONTEXT: \n",
    "{context}\n",
    "\"\"\".strip()"
   ]
  },
  {
   "cell_type": "code",
   "execution_count": 20,
   "id": "7942a4fd-ad91-41bc-9fe7-9dfb8f6da43a",
   "metadata": {},
   "outputs": [],
   "source": [
    "context = \"\"\n",
    "    \n",
    "for doc in results:\n",
    "    context = context + f\"section: {doc['section']}\\nquestion: {doc['question']}\\nanswer: {doc['text']}\\n\\n\"\n",
    "\n",
    "prompt = prompt_template.format(question=query, context=context).strip()"
   ]
  },
  {
   "cell_type": "code",
   "execution_count": 22,
   "id": "df099561-678e-487d-86e4-3cf55e493b7a",
   "metadata": {},
   "outputs": [
    {
     "data": {
      "text/plain": [
       "\"<think>\\nOkay, so I'm trying to figure out how to join the course after it starts. Let me look at the context provided.\\n\\nThe first question is about when the course will start. From earlier answers, it says the course starts on January 15th, 2024, at 17:00. So that's helpful information.\\n\\nBut how do I actually join? The previous replies talked about installing dependencies before the course begins and joining an online learning platform like Proctio, which allows in-person access. However, looking back, there were answers about installing tools and using Proctio for remote participation.\\n\\nWait, I see earlier responses mentioned installing Google cloud account, GCP SDK, Python 3 with Anaconda, Terraform, Git, and setting up prerequisites like Prerequisites and syllabus to feel comfortable before the course starts. That makes sense. It suggests that if you're ready to start right away or later, you can do so before the given date.\\n\\nBut if I join after the start date, some people said they didn't have to register because it's still eligible for homework submissions. However, there were deadlines mentioned for projects. So I might get interrupted during last-minute submissions. That could happen when taking a gap year or during exam periods.\\n\\nIn summary, joining the course is possible from the start date, but being aware of deadline constraints is important.\\n</think>\\n\\nTo determine how you can join the course after it starts:\\n\\n1. **Initial Join**: Start attending the course immediately upon its completion via Proctio, which allows online learning access regardless of registration status.\\n\\n2. **Pre-Registration (Before Start)**: If joining before the designated start date, proceed by installing GCP account, GCP SDK, Python 3 with Anaconda, Terraform, Git, and follow prerequisite documents to feel prepared.\\n\\n3. **After Start**: Can join even after the end date, but be mindful of project deadlines. This might occur during exam periods or non-collaborative times like a gap year.\\n\\nIn all cases, ensure timely submissions for final projects, which may require your attention if not prioritized.\""
      ]
     },
     "execution_count": 22,
     "metadata": {},
     "output_type": "execute_result"
    }
   ],
   "source": [
    "response = client.chat.completions.create(\n",
    "    model='deepseek-r1:1.5b',\n",
    "    messages=[{\"role\": \"user\", \"content\": prompt}]\n",
    ")\n",
    "response.choices[0].message.content"
   ]
  }
 ],
 "metadata": {
  "kernelspec": {
   "display_name": "Python 3 (ipykernel)",
   "language": "python",
   "name": "python3"
  },
  "language_info": {
   "codemirror_mode": {
    "name": "ipython",
    "version": 3
   },
   "file_extension": ".py",
   "mimetype": "text/x-python",
   "name": "python",
   "nbconvert_exporter": "python",
   "pygments_lexer": "ipython3",
   "version": "3.12.1"
  }
 },
 "nbformat": 4,
 "nbformat_minor": 5
}
