{
 "cells": [
  {
   "cell_type": "code",
   "execution_count": 1,
   "id": "992ec2c3-b869-40d9-a918-75abd5ae8aec",
   "metadata": {},
   "outputs": [],
   "source": [
    "from elasticsearch import Elasticsearch"
   ]
  },
  {
   "cell_type": "code",
   "execution_count": 2,
   "id": "e5d04ea4-230d-4ae3-8650-299449ee5b1f",
   "metadata": {},
   "outputs": [],
   "source": [
    "es_client = Elasticsearch('http://localhost:9200') "
   ]
  },
  {
   "cell_type": "code",
   "execution_count": 4,
   "id": "bb20c0fc-382c-4b43-a7a6-34485533eff8",
   "metadata": {},
   "outputs": [
    {
     "data": {
      "text/plain": [
       "ObjectApiResponse({'acknowledged': True, 'shards_acknowledged': True, 'index': 'course-questions'})"
      ]
     },
     "execution_count": 4,
     "metadata": {},
     "output_type": "execute_result"
    }
   ],
   "source": [
    "index_settings = {\n",
    "    \"settings\": {\n",
    "        \"number_of_shards\": 1,\n",
    "        \"number_of_replicas\": 0\n",
    "    },\n",
    "    \"mappings\": {\n",
    "        \"properties\": {\n",
    "            \"text\": {\"type\": \"text\"},\n",
    "            \"section\": {\"type\": \"text\"},\n",
    "            \"question\": {\"type\": \"text\"},\n",
    "            \"course\": {\"type\": \"keyword\"} \n",
    "        }\n",
    "    }\n",
    "}\n",
    "\n",
    "index_name = \"course-questions\"\n",
    "\n",
    "es_client.indices.create(index=index_name, body=index_settings)"
   ]
  },
  {
   "cell_type": "code",
   "execution_count": 5,
   "id": "42120f16-6cb7-47a3-8690-b14291fa817b",
   "metadata": {},
   "outputs": [],
   "source": [
    "from tqdm.auto import tqdm"
   ]
  },
  {
   "cell_type": "code",
   "execution_count": 7,
   "id": "80a1701a-94f0-4cac-b316-b038071cc144",
   "metadata": {},
   "outputs": [],
   "source": [
    "import json"
   ]
  },
  {
   "cell_type": "code",
   "execution_count": 8,
   "id": "13cf59af-bd3a-4740-8cc3-bda54c1537c3",
   "metadata": {},
   "outputs": [],
   "source": [
    "with open('document.json', 'rt') as file_in:\n",
    "    raw_docs = json.load(file_in)"
   ]
  },
  {
   "cell_type": "code",
   "execution_count": 9,
   "id": "042511be-2448-4df7-8379-0dfc51eacd9d",
   "metadata": {},
   "outputs": [
    {
     "data": {
      "application/vnd.jupyter.widget-view+json": {
       "model_id": "e436d7bea796423fa62aa6d67e83eaf4",
       "version_major": 2,
       "version_minor": 0
      },
      "text/plain": [
       "  0%|          | 0/3 [00:00<?, ?it/s]"
      ]
     },
     "metadata": {},
     "output_type": "display_data"
    }
   ],
   "source": [
    "for course_dict in tqdm(raw_docs):\n",
    "    for doc in course_dict['documents']:\n",
    "        doc['course'] = course_dict['course']\n",
    "        es_client.index(index=index_name, document=doc)"
   ]
  },
  {
   "cell_type": "code",
   "execution_count": 10,
   "id": "3d7be22a-8d21-42d8-825e-7590c1e0ff34",
   "metadata": {},
   "outputs": [],
   "source": [
    "def search_documents(query):\n",
    "    search_query = {\n",
    "        \"size\": 5,\n",
    "        \"query\": {\n",
    "            \"bool\": {\n",
    "                \"must\": {\n",
    "                    \"multi_match\": {\n",
    "                        \"query\": query,\n",
    "                        \"fields\": [\"question^3\", \"text\", \"section\"],\n",
    "                        \"type\": \"best_fields\"\n",
    "                    }\n",
    "                },\n",
    "                \"filter\": {\n",
    "                    \"term\": {\n",
    "                        \"course\": \"data-engineering-zoomcamp\"\n",
    "                    }\n",
    "                }\n",
    "            }\n",
    "        }\n",
    "    }\n",
    "    \n",
    "    response = es_client.search(index=index_name, body=search_query)\n",
    "    \n",
    "    result_docs = []\n",
    "    \n",
    "    for hit in response['hits']['hits']:\n",
    "        result_docs.append(hit['_source'])\n",
    "    \n",
    "    return result_docs"
   ]
  },
  {
   "cell_type": "code",
   "execution_count": 11,
   "id": "0c7776cd-87e6-42f0-9062-fd30f3e9e295",
   "metadata": {},
   "outputs": [],
   "source": [
    "from openai import OpenAI"
   ]
  },
  {
   "cell_type": "code",
   "execution_count": 12,
   "id": "873af5f3-4a0f-4f0c-a306-828bf665e3b3",
   "metadata": {},
   "outputs": [],
   "source": [
    "client = OpenAI(\n",
    "    base_url=\"http://localhost:11434/v1/\",\n",
    "    api_key=\"ollama\"\n",
    ")"
   ]
  },
  {
   "cell_type": "code",
   "execution_count": 13,
   "id": "e150ba75-1bb8-4ea2-aceb-97df4e25306f",
   "metadata": {},
   "outputs": [],
   "source": [
    "def llm(prompt):\n",
    "    response = client.chat.completions.create(\n",
    "        model= 'deepseek-r1:1.5b', # 'gemma3:1b',\n",
    "        messages=[{\"role\": \"user\", \"content\": prompt}]\n",
    "    )\n",
    "    return response.choices[0].message.content"
   ]
  },
  {
   "cell_type": "code",
   "execution_count": 14,
   "id": "1a997140-1f4a-4ddb-bc75-7033b6381cf7",
   "metadata": {},
   "outputs": [],
   "source": [
    "def build_prompt(query, search_results):\n",
    "    prompt_template = \"\"\"\n",
    "    You're a course teaching assistant. Answer the QUESTION based on the CONTEXT from the FAQ database.\n",
    "    Use only the facts from the CONTEXT when answering the QUESTION.\n",
    "    If the CONTEXT does not have the Answer then output as you could not find the answer\n",
    "    \n",
    "    QUESTION: {question}\n",
    "    \n",
    "    CONTEXT: \n",
    "    {context}\n",
    "    \"\"\".strip()\n",
    "    \n",
    "    context = \"\"\n",
    "        \n",
    "    for doc in search_results:\n",
    "        context = context + f\"section: {doc['section']}\\nquestion: {doc['question']}\\nanswer: {doc['text']}\\n\\n\"\n",
    "    \n",
    "    return prompt_template.format(question=query, context=context).strip()"
   ]
  },
  {
   "cell_type": "code",
   "execution_count": 15,
   "id": "df099561-678e-487d-86e4-3cf55e493b7a",
   "metadata": {},
   "outputs": [],
   "source": [
    "def rag(query):\n",
    "    search_results = search_documents(query)\n",
    "    prompt = build_prompt(query, search_results)\n",
    "    return llm(prompt)"
   ]
  },
  {
   "cell_type": "code",
   "execution_count": 16,
   "id": "839e23d0-4dad-4fb8-ba06-8f63d047bf3f",
   "metadata": {},
   "outputs": [],
   "source": [
    "query = \"How can I install kafka ?\""
   ]
  },
  {
   "cell_type": "code",
   "execution_count": 17,
   "id": "05edd1d6-b139-4b58-9b0e-ab3ac7a48064",
   "metadata": {},
   "outputs": [
    {
     "data": {
      "text/plain": [
       "'<think>\\nOkay, so the user is asking how to install Kafka. Let\\'s break down the context provided.\\n\\nFirst, I see that there are sections about Confluent Kafka and DuckDB within a workshop 1 - dlthub context. Under each, there are respective questions answered but no direct answers.\\n\\nLooking at Confluent Kafka section: The environment uses Confluent Cloud. They mention accessing the right navigation bar to find a \"Stream Governance API,\" which should be under Kafka topics or similar. They then explain that by clicking on that link and entering the URL provided, they can get credentials from the \"Credentials\" section below.\\n\\nIn DuckDB section: To read from Parquet files, they provide code examples using Pyarrow.parquet and Spark\\'s parquet driver. Neither of these is directly related to installing Kafka.\\n\\nNow, looking at other modules:\\n- Module 6: streaming with Kafka doesn\\'t list an install instruction.\\n- Module 5: pyspark similarly has no installation steps mentioned for Kafka.\\n\\nSince none of the provided contexts address installing Kafka in any module or workshop, I don\\'t have a fact from the context to provide instructions about that. Therefore, if the user is looking to installs kafka and cannot find it in the given context, they might need to use Confluent Cloud services and adjust the URL accordingly.\\n</think>\\n\\nYou cannot install Kafka according to the information provided in the context.\\n\\nANSWER: In Confluent Cloud environment, access thestream governance API, click on \"Endpoints,\" then enter the URL under the \"Endpoint\" section. Click \"Continue.\" The credentials will appear in a pop-up window with the username for generating password and password details for changing account.'"
      ]
     },
     "execution_count": 17,
     "metadata": {},
     "output_type": "execute_result"
    }
   ],
   "source": [
    "rag(query)"
   ]
  }
 ],
 "metadata": {
  "kernelspec": {
   "display_name": "Python 3 (ipykernel)",
   "language": "python",
   "name": "python3"
  },
  "language_info": {
   "codemirror_mode": {
    "name": "ipython",
    "version": 3
   },
   "file_extension": ".py",
   "mimetype": "text/x-python",
   "name": "python",
   "nbconvert_exporter": "python",
   "pygments_lexer": "ipython3",
   "version": "3.12.1"
  }
 },
 "nbformat": 4,
 "nbformat_minor": 5
}
